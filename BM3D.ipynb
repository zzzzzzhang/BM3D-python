{
 "cells": [
  {
   "cell_type": "code",
   "execution_count": 52,
   "metadata": {
    "ExecuteTime": {
     "end_time": "2019-11-27T09:11:18.239869Z",
     "start_time": "2019-11-27T09:11:18.237008Z"
    }
   },
   "outputs": [],
   "source": [
    "import cv2\n",
    "import numpy\n",
    "import math\n",
    "cv2.setUseOptimized(True)"
   ]
  },
  {
   "cell_type": "code",
   "execution_count": 53,
   "metadata": {
    "ExecuteTime": {
     "end_time": "2019-11-27T09:11:18.474918Z",
     "start_time": "2019-11-27T09:11:18.470360Z"
    }
   },
   "outputs": [],
   "source": [
    "# Parameters initialization\n",
    "sigma = 25\n",
    "Threshold_Hard3D = 2.7 * sigma  # Threshold for Hard Thresholding\n",
    "\n",
    "Step1_Blk_Size = 8  # block_Size即块的大小\n",
    "Step1_Blk_Step = 1  # Rather than sliding by one pixel to every next reference block, use a step of Nstep pixels in both horizontal and vertical directions.\n",
    "Step1_Search_Step = 1  # 块的搜索step\n",
    "First_Match_threshold = 125 * Step1_Blk_Size ** 2  # 用于计算block之间相似度的阈值\n",
    "Step1_max_matched_cnt = 16  # 组最大匹配的块数\n",
    "Step1_Search_Window = 16  # Search for candidate matching blocks in a local neighborhood of restricted size NS*NS centered\n",
    "\n",
    "Step2_Blk_Size = 8\n",
    "Step2_Blk_Step = 1\n",
    "Step2_Search_Step = 1\n",
    "Second_Match_threshold = 220. / 16 * Step2_Blk_Size ** 2  # 用于计算block之间相似度的阈值\n",
    "Step2_max_matched_cnt = 32\n",
    "Step2_Search_Window = 16\n",
    "\n",
    "Beta_Kaiser = 1.5"
   ]
  },
  {
   "cell_type": "code",
   "execution_count": 54,
   "metadata": {
    "ExecuteTime": {
     "end_time": "2019-11-27T09:11:18.649001Z",
     "start_time": "2019-11-27T09:11:18.644535Z"
    }
   },
   "outputs": [],
   "source": [
    "def init(img, _blk_size, _Beta_Kaiser):\n",
    "    \"\"\"该函数用于初始化，返回用于记录过滤后图像以及权重的数组,还有构造凯撒窗\"\"\"\n",
    "    m_shape = img.shape\n",
    "    m_img = numpy.matrix(numpy.zeros(m_shape, dtype=float))\n",
    "    m_wight = numpy.matrix(numpy.zeros(m_shape, dtype=float))\n",
    "\n",
    "    # 窗函数(window function)是一种除在给定区间之外取值均为0的实函数\n",
    "    K = numpy.matrix(numpy.kaiser(_blk_size, _Beta_Kaiser))\n",
    "    m_Kaiser = numpy.array(K.T * K)  # 构造一个凯撒窗\n",
    "    # 窗函数：https://zh.wikipedia.org/wiki/窗函数#Kaiser窗\n",
    "\n",
    "    # print m_Kaiser, type(m_Kaiser), m_Kaiser.shape\n",
    "    # cv2.imshow(\"Kaisser\", m_Kaiser)\n",
    "    # cv2.waitKey(0)\n",
    "    # cv2.imwrite(\"Kaisser.jpg\", m_Kaiser.astype(numpy.uint8))\n",
    "    return m_img, m_wight, m_Kaiser"
   ]
  },
  {
   "cell_type": "code",
   "execution_count": 55,
   "metadata": {
    "ExecuteTime": {
     "end_time": "2019-11-27T09:11:18.846447Z",
     "start_time": "2019-11-27T09:11:18.840169Z"
    }
   },
   "outputs": [],
   "source": [
    "def Locate_blk(i, j, blk_step, block_Size, width, height):\n",
    "    '''该函数用于保证当前的blk不超出图像范围'''\n",
    "    if i * blk_step + block_Size < width:\n",
    "        point_x = i * blk_step\n",
    "    else:\n",
    "        point_x = width - block_Size\n",
    "\n",
    "    if j * blk_step + block_Size < height:\n",
    "        point_y = j * blk_step\n",
    "    else:\n",
    "        point_y = height - block_Size\n",
    "\n",
    "    m_blockPoint = numpy.array((point_x, point_y), dtype=int)  # 当前参考图像的顶点\n",
    "\n",
    "    return m_blockPoint"
   ]
  },
  {
   "cell_type": "code",
   "execution_count": 56,
   "metadata": {
    "ExecuteTime": {
     "end_time": "2019-11-27T09:11:18.974372Z",
     "start_time": "2019-11-27T09:11:18.968473Z"
    }
   },
   "outputs": [],
   "source": [
    "def Define_SearchWindow(_noisyImg, _BlockPoint, _WindowSize, Blk_Size):\n",
    "    \"\"\"\n",
    "    该函数利用block的左上顶点的位置返回一个二元组（x,y）\n",
    "    用以界定_Search_Window左上角顶点坐标\n",
    "\n",
    "    \"\"\"\n",
    "    point_x = _BlockPoint[0]  # 当前坐标\n",
    "    point_y = _BlockPoint[1]  # 当前坐标\n",
    "\n",
    "    # 获得SearchWindow四个顶点的坐标\n",
    "    LX = point_x + Blk_Size / 2 - _WindowSize / 2  # 左上x\n",
    "    LY = point_y + Blk_Size / 2 - _WindowSize / 2  # 左上y\n",
    "    RX = LX + _WindowSize  # 右下x\n",
    "    RY = LY + _WindowSize  # 右下y\n",
    "\n",
    "    # 判断一下是否越界\n",
    "    if LX < 0:\n",
    "        LX = 0\n",
    "    elif RX >= _noisyImg.shape[0]:\n",
    "        LX = _noisyImg.shape[0] - _WindowSize\n",
    "        RX = _noisyImg.shape[0] - 1\n",
    "    if LY < 0:\n",
    "        LY = 0\n",
    "    elif RY >= _noisyImg.shape[1]:\n",
    "        LY = _noisyImg.shape[1] - _WindowSize\n",
    "        RY = _noisyImg.shape[1] - 1\n",
    "\n",
    "    return numpy.array((LX, LY), dtype=int)"
   ]
  },
  {
   "cell_type": "code",
   "execution_count": 57,
   "metadata": {
    "ExecuteTime": {
     "end_time": "2019-11-27T09:11:19.237128Z",
     "start_time": "2019-11-27T09:11:19.222342Z"
    }
   },
   "outputs": [],
   "source": [
    "def Step1_fast_match(_noisyImg, _BlockPoint):\n",
    "    \"\"\"快速匹配\"\"\"\n",
    "    '''\n",
    "    *返回邻域内寻找和当前_block相似度最高的几个block,返回的数组中包含本身\n",
    "    *_noisyImg:噪声图像\n",
    "    *_BlockPoint:当前block的坐标及大小\n",
    "    '''\n",
    "    (present_x, present_y) = _BlockPoint  # 当前坐标\n",
    "    Blk_Size = Step1_Blk_Size\n",
    "    Search_Step = Step1_Search_Step\n",
    "    Threshold = First_Match_threshold\n",
    "    max_matched = Step1_max_matched_cnt\n",
    "    Window_size = Step1_Search_Window\n",
    "\n",
    "    blk_positions = numpy.zeros((max_matched, 2), dtype=int)  # 用于记录相似blk的位置\n",
    "    Final_similar_blocks = numpy.zeros((max_matched, Blk_Size, Blk_Size), dtype=float)  # 用于保存最后结果\n",
    "\n",
    "    img = _noisyImg[present_x: present_x + Blk_Size, present_y: present_y + Blk_Size]\n",
    "    dct_img = cv2.dct(img.astype(numpy.float64))  # 对目标作block作二维余弦变换\n",
    "\n",
    "    Final_similar_blocks[0, :, :] = dct_img  # 保存变换后的目标块\n",
    "    blk_positions[0, :] = _BlockPoint\n",
    "\n",
    "    Window_location = Define_SearchWindow(_noisyImg, _BlockPoint, Window_size, Blk_Size)\n",
    "    blk_num = (Window_size - Blk_Size) // Search_Step + 1  # 确定最多可以找到多少相似blk\n",
    "    blk_num = int(blk_num)\n",
    "    (present_x, present_y) = Window_location\n",
    "\n",
    "    similar_blocks = numpy.zeros((blk_num ** 2, Blk_Size, Blk_Size), dtype=float)\n",
    "    m_Blkpositions = numpy.zeros((blk_num ** 2, 2), dtype=int)\n",
    "    Distances = numpy.zeros(blk_num ** 2, dtype=float)  # 记录各个blk与它的相似度\n",
    "\n",
    "    # 开始在_Search_Window中搜索,初始版本先采用遍历搜索策略,这里返回最相似的几块\n",
    "    matched_cnt = 0\n",
    "    for i in range(blk_num):\n",
    "        for j in range(blk_num):\n",
    "            tem_img = _noisyImg[present_x: present_x + Blk_Size, present_y: present_y + Blk_Size]\n",
    "            dct_Tem_img = cv2.dct(tem_img.astype(numpy.float64))\n",
    "            # 先对块进行dct变换再求l2-norm，寻找相似块，降低噪点的干扰\n",
    "            m_Distance = numpy.linalg.norm((dct_img - dct_Tem_img)) ** 2 / (Blk_Size ** 2)\n",
    "\n",
    "            # 下面记录数据自动不考虑自身(因为已经记录)\n",
    "            if m_Distance < Threshold and m_Distance > 0:  # 说明找到了一块符合要求的\n",
    "                similar_blocks[matched_cnt, :, :] = dct_Tem_img\n",
    "                m_Blkpositions[matched_cnt, :] = (present_x, present_y)\n",
    "                Distances[matched_cnt] = m_Distance\n",
    "                matched_cnt += 1\n",
    "            present_y += Search_Step\n",
    "        present_x += Search_Step\n",
    "        present_y = Window_location[1]  # 一行遍历完了，重置y到起点\n",
    "    # 取前matched_cnt个块\n",
    "    Distances = Distances[:matched_cnt]\n",
    "    # 对distance进行排序，找到对应顺序的序号\n",
    "    # numpy.argsort() 的用法：\n",
    "    # https://docs.scipy.org/doc/numpy/reference/generated/numpy.argsort.html\n",
    "    Sort = Distances.argsort()\n",
    "\n",
    "    # 统计一下找到了多少相似的blk\n",
    "    if matched_cnt < max_matched:\n",
    "        Count = matched_cnt + 1\n",
    "    else:\n",
    "        Count = max_matched\n",
    "    # 将前matched_cnt个块放入Final_similar_blocks，左上坐标信息保存在lk_positions\n",
    "    if Count > 0:\n",
    "        for i in range(1, Count):\n",
    "            Final_similar_blocks[i, :, :] = similar_blocks[Sort[i - 1], :, :]\n",
    "            blk_positions[i, :] = m_Blkpositions[Sort[i - 1], :]\n",
    "    return Final_similar_blocks, blk_positions, Count"
   ]
  },
  {
   "cell_type": "code",
   "execution_count": 58,
   "metadata": {
    "ExecuteTime": {
     "end_time": "2019-11-27T09:11:19.386448Z",
     "start_time": "2019-11-27T09:11:19.381707Z"
    }
   },
   "outputs": [],
   "source": [
    "def Step1_3DFiltering(_similar_blocks):\n",
    "    '''\n",
    "    *3D变换及滤波处理\n",
    "    *_similar_blocks:相似的一组block,这里已经是频域的表示\n",
    "    *要将_similar_blocks第三维依次取出,然在频域用阈值滤波之后,再作反变换\n",
    "    '''\n",
    "\n",
    "    statis_nonzero = 0  # 非零元素个数\n",
    "    m_Shape = _similar_blocks.shape\n",
    "\n",
    "    # 下面这一段代码很耗时\n",
    "    for i in range(m_Shape[1]):\n",
    "        for j in range(m_Shape[2]):\n",
    "            # print _similar_blocks[:, i, j], type(_similar_blocks[:, i, j])\n",
    "            tem_Vct_Trans = cv2.dct(_similar_blocks[:, i, j])\n",
    "            # 硬阈值变换，去掉较小的频率成分\n",
    "            tem_Vct_Trans[numpy.abs(tem_Vct_Trans[:]) < Threshold_Hard3D] = 0.\n",
    "            statis_nonzero += tem_Vct_Trans.nonzero()[0].size\n",
    "            _similar_blocks[:, i, j] = cv2.idct(tem_Vct_Trans)[0]\n",
    "    return _similar_blocks, statis_nonzero"
   ]
  },
  {
   "cell_type": "code",
   "execution_count": 59,
   "metadata": {
    "ExecuteTime": {
     "end_time": "2019-11-27T09:11:19.564955Z",
     "start_time": "2019-11-27T09:11:19.559619Z"
    }
   },
   "outputs": [],
   "source": [
    "def Aggregation_hardthreshold(_similar_blocks, blk_positions, m_basic_img, m_wight_img, _nonzero_num, Count, Kaiser):\n",
    "    '''\n",
    "    *对3D变换及滤波后输出的stack进行加权累加,得到初步滤波的图片\n",
    "    *_similar_blocks:相似的一组block,这里是频域的表示\n",
    "    *对这些块，用非零项的权重乘以凯撒窗之后再分别放回原位\n",
    "    '''\n",
    "    _shape = _similar_blocks.shape\n",
    "    if _nonzero_num < 1:\n",
    "        _nonzero_num = 1\n",
    "    block_wight = (1. / (sigma ** 2 * _nonzero_num)) * Kaiser\n",
    "    for i in range(Count):\n",
    "        point = blk_positions[i, :]\n",
    "        tem_img = block_wight * cv2.idct(_similar_blocks[i, :, :])\n",
    "        m_basic_img[point[0]:point[0] + _shape[1], point[1]:point[1] + _shape[2]] += tem_img\n",
    "        m_wight_img[point[0]:point[0] + _shape[1], point[1]:point[1] + _shape[2]] += block_wight"
   ]
  },
  {
   "cell_type": "code",
   "execution_count": 68,
   "metadata": {
    "ExecuteTime": {
     "end_time": "2019-11-27T09:47:42.168640Z",
     "start_time": "2019-11-27T09:47:42.161943Z"
    }
   },
   "outputs": [],
   "source": [
    "def BM3D_1st_step(_noisyImg):\n",
    "    \"\"\"第一步,基本去噪\"\"\"\n",
    "    # 初始化一些参数：\n",
    "    (width, height) = _noisyImg.shape  # width = row, height = col\n",
    "    block_Size = Step1_Blk_Size  # 块大小\n",
    "    blk_step = Step1_Blk_Step  # N块步长滑动\n",
    "    # 根据步长确定搜索的次数\n",
    "    Width_num = (width - block_Size) // blk_step + 1\n",
    "    Height_num = (height - block_Size) // blk_step + 1\n",
    "\n",
    "    # 初始化几个数组\n",
    "    # 空图像、空权重表、凯撒窗\n",
    "    Basic_img, m_Wight, m_Kaiser = init(_noisyImg, Step1_Blk_Size, Beta_Kaiser)\n",
    "\n",
    "    # 开始逐block的处理,+2是为了避免边缘上不够\n",
    "    for i in range(Width_num):\n",
    "        for j in range(Height_num):\n",
    "            # m_blockPoint当前参考图像的左上角顶点\n",
    "            m_blockPoint = Locate_blk(i, j, blk_step, block_Size, width, height)  # 该函数用于保证当前的blk不超出图像范围\n",
    "            Similar_Blks, Positions, Count = Step1_fast_match(_noisyImg, m_blockPoint)  # 相似块集合、相似块位置、相似块数量\n",
    "            Similar_Blks, statis_nonzero = Step1_3DFiltering(Similar_Blks)  # 协同过滤后的相似块集合、非零项数量\n",
    "            Aggregation_hardthreshold(Similar_Blks, Positions, Basic_img, m_Wight, statis_nonzero, Count, m_Kaiser)\n",
    "    Basic_img[:, :] /= m_Wight[:, :]\n",
    "    basic = numpy.matrix(Basic_img, dtype=int)\n",
    "    basic.astype(numpy.uint8)\n",
    "\n",
    "    return basic\n"
   ]
  },
  {
   "cell_type": "code",
   "execution_count": 61,
   "metadata": {
    "ExecuteTime": {
     "end_time": "2019-11-27T09:11:20.579599Z",
     "start_time": "2019-11-27T09:11:20.558119Z"
    }
   },
   "outputs": [],
   "source": [
    "def Step2_fast_match(_Basic_img, _noisyImg, _BlockPoint):\n",
    "    '''\n",
    "    *快速匹配算法,返回邻域内寻找和当前_block相似度最高的几个block,要同时返回basicImg和IMG\n",
    "    *_Basic_img: 基础去噪之后的图像\n",
    "    *_noisyImg:噪声图像\n",
    "    *_BlockPoint:当前block的坐标及大小\n",
    "    '''\n",
    "    (present_x, present_y) = _BlockPoint  # 当前坐标\n",
    "    Blk_Size = Step2_Blk_Size\n",
    "    Threshold = Second_Match_threshold\n",
    "    Search_Step = Step2_Search_Step\n",
    "    max_matched = Step2_max_matched_cnt\n",
    "    Window_size = Step2_Search_Window\n",
    "\n",
    "    blk_positions = numpy.zeros((max_matched, 2), dtype=int)  # 用于记录相似blk的位置\n",
    "    Final_similar_blocks = numpy.zeros((max_matched, Blk_Size, Blk_Size), dtype=float)\n",
    "    Final_noisy_blocks = numpy.zeros((max_matched, Blk_Size, Blk_Size), dtype=float)\n",
    "\n",
    "    img = _Basic_img[present_x: present_x + Blk_Size, present_y: present_y + Blk_Size]\n",
    "    dct_img = cv2.dct(img.astype(numpy.float32))  # 对目标作block作二维余弦变换\n",
    "    Final_similar_blocks[0, :, :] = dct_img\n",
    "\n",
    "    n_img = _noisyImg[present_x: present_x + Blk_Size, present_y: present_y + Blk_Size]\n",
    "    dct_n_img = cv2.dct(n_img.astype(numpy.float32))  # 对目标作block作二维余弦变换\n",
    "    Final_noisy_blocks[0, :, :] = dct_n_img\n",
    "\n",
    "    blk_positions[0, :] = _BlockPoint\n",
    "\n",
    "    Window_location = Define_SearchWindow(_noisyImg, _BlockPoint, Window_size, Blk_Size)\n",
    "    blk_num = (Window_size - Blk_Size) // Search_Step + 1 # 确定最多可以找到多少相似blk\n",
    "    blk_num = int(blk_num)\n",
    "    (present_x, present_y) = Window_location\n",
    "\n",
    "    similar_blocks = numpy.zeros((blk_num ** 2, Blk_Size, Blk_Size), dtype=float)\n",
    "    m_Blkpositions = numpy.zeros((blk_num ** 2, 2), dtype=int)\n",
    "    Distances = numpy.zeros(blk_num ** 2, dtype=float)  # 记录各个blk与它的相似度\n",
    "\n",
    "    # 开始在_Search_Window中搜索,初始版本先采用遍历搜索策略,这里返回最相似的几块\n",
    "    matched_cnt = 0\n",
    "    for i in range(blk_num):\n",
    "        for j in range(blk_num):\n",
    "            tem_img = _Basic_img[present_x: present_x + Blk_Size, present_y: present_y + Blk_Size]\n",
    "            # dct_Tem_img = cv2.dct(tem_img.astype(numpy.float32))\n",
    "            # m_Distance = numpy.linalg.norm((dct_img - dct_Tem_img)) ** 2 / (Blk_Size ** 2)\n",
    "\n",
    "            m_Distance = numpy.linalg.norm((img - tem_img)) ** 2 / (Blk_Size ** 2)\n",
    "            # 下面记录数据自动不考虑自身(因为已经记录)\n",
    "            if m_Distance < Threshold and m_Distance > 0:\n",
    "                dct_Tem_img = cv2.dct(tem_img.astype(numpy.float32))\n",
    "                similar_blocks[matched_cnt, :, :] = dct_Tem_img\n",
    "                m_Blkpositions[matched_cnt, :] = (present_x, present_y)\n",
    "                Distances[matched_cnt] = m_Distance\n",
    "                matched_cnt += 1\n",
    "            present_y += Search_Step\n",
    "        present_x += Search_Step\n",
    "        present_y = Window_location[1]\n",
    "    Distances = Distances[:matched_cnt]\n",
    "    Sort = Distances.argsort()\n",
    "\n",
    "    # 统计一下找到了多少相似的blk\n",
    "    if matched_cnt < max_matched:\n",
    "        Count = matched_cnt + 1\n",
    "    else:\n",
    "        Count = max_matched\n",
    "\n",
    "    # nosiy图像的3D Stack，利用第一步的Basic估计结果来构造\n",
    "    if Count > 0:\n",
    "        for i in range(1, Count):\n",
    "            Final_similar_blocks[i, :, :] = similar_blocks[Sort[i - 1], :, :]\n",
    "            blk_positions[i, :] = m_Blkpositions[Sort[i - 1], :]\n",
    "\n",
    "            (present_x, present_y) = m_Blkpositions[Sort[i - 1], :]\n",
    "            n_img = _noisyImg[present_x: present_x + Blk_Size, present_y: present_y + Blk_Size]\n",
    "            Final_noisy_blocks[i, :, :] = cv2.dct(n_img.astype(numpy.float64))\n",
    "\n",
    "    return Final_similar_blocks, Final_noisy_blocks, blk_positions, Count"
   ]
  },
  {
   "cell_type": "code",
   "execution_count": 62,
   "metadata": {
    "ExecuteTime": {
     "end_time": "2019-11-27T09:11:20.963478Z",
     "start_time": "2019-11-27T09:11:20.957263Z"
    }
   },
   "outputs": [],
   "source": [
    "def Step2_3DFiltering(_Similar_Bscs, _Similar_Imgs):\n",
    "    '''\n",
    "    *3D维纳变换的协同滤波\n",
    "    *_similar_blocks:相似的一组block,这里是频域的表示\n",
    "    *要将_similar_blocks第三维依次取出,然后作dct,在频域进行维纳滤波之后,再作反变换\n",
    "    *返回的Wiener_wight用于后面Aggregation\n",
    "    '''\n",
    "    m_Shape = _Similar_Bscs.shape\n",
    "    Wiener_wight = numpy.zeros((m_Shape[1], m_Shape[2]), dtype=float)\n",
    "\n",
    "    for i in range(m_Shape[1]):\n",
    "        for j in range(m_Shape[2]):\n",
    "            tem_vector = _Similar_Bscs[:, i, j]\n",
    "            tem_Vct_Trans = numpy.matrix(cv2.dct(tem_vector))\n",
    "\n",
    "            Norm_2 = numpy.float64(tem_Vct_Trans.T * tem_Vct_Trans)\n",
    "            m_weight = Norm_2 / (Norm_2 + sigma ** 2)\n",
    "            Wiener_wight[i, j] = m_weight\n",
    "\n",
    "            #if m_weight != 0: Wiener_wight[i, j] = 1. / (m_weight ** 2 * sigma ** 2)\n",
    "            # else:\n",
    "            #     Wiener_wight[i, j] = 10000\n",
    "\n",
    "            # RES=IDCT(WEIGHT(DCT(NOISE_BLOCK)))\n",
    "            tem_vector = _Similar_Imgs[:, i, j]\n",
    "            tem_Vct_Trans = m_weight * cv2.dct(tem_vector)\n",
    "            _Similar_Bscs[:, i, j] = cv2.idct(tem_Vct_Trans)[0]\n",
    "\n",
    "    return _Similar_Bscs, Wiener_wight"
   ]
  },
  {
   "cell_type": "code",
   "execution_count": 63,
   "metadata": {
    "ExecuteTime": {
     "end_time": "2019-11-27T09:11:21.554709Z",
     "start_time": "2019-11-27T09:11:21.549322Z"
    }
   },
   "outputs": [],
   "source": [
    "def Aggregation_Wiener(_Similar_Blks, _Wiener_wight, blk_positions, m_basic_img, m_wight_img, Count, Kaiser):\n",
    "    '''\n",
    "    *对3D变换及滤波后输出的stack进行加权累加,得到初步滤波的图片\n",
    "    *_similar_blocks:相似的一组block,这里是频域的表示\n",
    "    *对于最后的块，乘以凯撒窗之后再输出\n",
    "    '''\n",
    "    _shape = _Similar_Blks.shape\n",
    "    block_wight = _Wiener_wight * Kaiser\n",
    "\n",
    "    for i in range(Count):\n",
    "        point = blk_positions[i, :]\n",
    "        tem_img = _Wiener_wight * cv2.idct(_Similar_Blks[i, :, :]) * Kaiser\n",
    "        m_basic_img[point[0]:point[0] + _shape[1], point[1]:point[1] + _shape[2]] += tem_img\n",
    "        m_wight_img[point[0]:point[0] + _shape[1], point[1]:point[1] + _shape[2]] += block_wight"
   ]
  },
  {
   "cell_type": "code",
   "execution_count": 67,
   "metadata": {
    "ExecuteTime": {
     "end_time": "2019-11-27T09:46:51.638672Z",
     "start_time": "2019-11-27T09:46:51.632171Z"
    }
   },
   "outputs": [],
   "source": [
    "def BM3D_2nd_step(_basicImg, _noisyImg):\n",
    "    '''Step 2. 最终的估计: 利用基本的估计，进行改进了的分组以及协同维纳滤波'''\n",
    "    # 初始化一些参数：\n",
    "    (width, height) = _noisyImg.shape\n",
    "    block_Size = Step2_Blk_Size\n",
    "    blk_step = Step2_Blk_Step\n",
    "    Width_num = (width - block_Size) // blk_step + 1\n",
    "    Height_num = (height - block_Size) // blk_step + 1\n",
    "\n",
    "    # 初始化几个数组\n",
    "    m_img, m_Wight, m_Kaiser = init(_noisyImg, block_Size, Beta_Kaiser)\n",
    "\n",
    "    for i in range(Width_num):\n",
    "        for j in range(Height_num):\n",
    "            m_blockPoint = Locate_blk(i, j, blk_step, block_Size, width, height)\n",
    "            Similar_Blks, Similar_Imgs, Positions, Count = Step2_fast_match(_basicImg, _noisyImg, m_blockPoint)\n",
    "            Similar_Blks, Wiener_wight = Step2_3DFiltering(Similar_Blks, Similar_Imgs)\n",
    "            Aggregation_Wiener(Similar_Blks, Wiener_wight, Positions, m_img, m_Wight, Count, m_Kaiser)\n",
    "    m_img[:, :] /= m_Wight[:, :]\n",
    "    Final = numpy.matrix(m_img, dtype=int)\n",
    "    Final.astype(numpy.uint8)\n",
    "\n",
    "    return Final"
   ]
  },
  {
   "cell_type": "code",
   "execution_count": 65,
   "metadata": {
    "ExecuteTime": {
     "end_time": "2019-11-27T09:44:34.556344Z",
     "start_time": "2019-11-27T09:11:22.480723Z"
    }
   },
   "outputs": [
    {
     "name": "stdout",
     "output_type": "stream",
     "text": [
      "The Processing time of the First step is 635.017807 s\n",
      "The Processing time of the Second step is 1357.045398 s\n",
      "The total Processing time is 1992.063206 s\n"
     ]
    }
   ],
   "source": [
    "if __name__ == '__main__':\n",
    "    cv2.setUseOptimized(True)  # OpenCV 中的很多函数都被优化过（使用 SSE2，AVX 等）。也包含一些没有被优化的代码。使用函数 cv2.setUseOptimized() 来开启优化。\n",
    "    img_name = \"./img/lenna.jpg\" #图像的路径\n",
    "    ori = cv2.imread(img_name, cv2.IMREAD_GRAYSCALE)  # 读入图像，cv2.IMREAD_GRAYSCALE:以灰度模式读入图像\n",
    "\n",
    "    # 记录程序运行时间\n",
    "    e1 = cv2.getTickCount()  # cv2.getTickCount 函数返回从参考点到这个函数被执行的时钟数\n",
    "    # if(img is not None):\n",
    "    #     print(\"success\")\n",
    "    Basic_img = BM3D_1st_step(ori)\n",
    "    e2 = cv2.getTickCount()\n",
    "    time = (e2 - e1) / cv2.getTickFrequency()  # 计算函数执行时间\n",
    "    print (\"The Processing time of the First step is %f s\" % time)\n",
    "    cv2.imwrite(\"./img/Basic3_lenna.jpg\", Basic_img)\n",
    "\n",
    "    # Basic_img = cv2.imread(\"Basic3.jpg\", cv2.IMREAD_GRAYSCALE)\n",
    "\n",
    "    Final_img = BM3D_2nd_step(Basic_img, ori)\n",
    "    e3 = cv2.getTickCount()\n",
    "    time = (e3 - e2) / cv2.getTickFrequency()\n",
    "    print (\"The Processing time of the Second step is %f s\" % time)\n",
    "    cv2.imwrite(\"./img/Final3_lenna.jpg\", Final_img)\n",
    "\n",
    "    time = (e3 - e1) / cv2.getTickFrequency()\n",
    "    print (\"The total Processing time is %f s\" % time)"
   ]
  },
  {
   "cell_type": "code",
   "execution_count": null,
   "metadata": {},
   "outputs": [],
   "source": []
  }
 ],
 "metadata": {
  "kernelspec": {
   "display_name": "Python 3",
   "language": "python",
   "name": "python3"
  },
  "language_info": {
   "codemirror_mode": {
    "name": "ipython",
    "version": 3
   },
   "file_extension": ".py",
   "mimetype": "text/x-python",
   "name": "python",
   "nbconvert_exporter": "python",
   "pygments_lexer": "ipython3",
   "version": "3.7.3"
  }
 },
 "nbformat": 4,
 "nbformat_minor": 2
}
